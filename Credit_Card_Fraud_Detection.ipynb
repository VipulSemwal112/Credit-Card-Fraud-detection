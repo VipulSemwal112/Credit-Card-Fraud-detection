{
 "cells": [
  {
   "cell_type": "code",
   "execution_count": 1,
   "metadata": {},
   "outputs": [],
   "source": [
    "import pandas as pd\n",
    "import numpy as np\n",
    "from sklearn.preprocessing import MinMaxScaler\n",
    "from sklearn.model_selection import train_test_split\n",
    "from sklearn.linear_model import LogisticRegression\n",
    "from sklearn.svm import SVC\n",
    "from sklearn.ensemble import RandomForestClassifier\n",
    "from sklearn.tree import DecisionTreeClassifier\n",
    "from sklearn.model_selection import cross_val_score\n",
    "from sklearn.model_selection import ShuffleSplit\n",
    "from sklearn.model_selection import GridSearchCV\n",
    "from tqdm import tqdm"
   ]
  },
  {
   "cell_type": "code",
   "execution_count": 2,
   "metadata": {
    "scrolled": true
   },
   "outputs": [
    {
     "data": {
      "text/html": [
       "<div>\n",
       "<style scoped>\n",
       "    .dataframe tbody tr th:only-of-type {\n",
       "        vertical-align: middle;\n",
       "    }\n",
       "\n",
       "    .dataframe tbody tr th {\n",
       "        vertical-align: top;\n",
       "    }\n",
       "\n",
       "    .dataframe thead th {\n",
       "        text-align: right;\n",
       "    }\n",
       "</style>\n",
       "<table border=\"1\" class=\"dataframe\">\n",
       "  <thead>\n",
       "    <tr style=\"text-align: right;\">\n",
       "      <th></th>\n",
       "      <th>Time</th>\n",
       "      <th>V1</th>\n",
       "      <th>V2</th>\n",
       "      <th>V3</th>\n",
       "      <th>V4</th>\n",
       "      <th>V5</th>\n",
       "      <th>V6</th>\n",
       "      <th>V7</th>\n",
       "      <th>V8</th>\n",
       "      <th>V9</th>\n",
       "      <th>...</th>\n",
       "      <th>V21</th>\n",
       "      <th>V22</th>\n",
       "      <th>V23</th>\n",
       "      <th>V24</th>\n",
       "      <th>V25</th>\n",
       "      <th>V26</th>\n",
       "      <th>V27</th>\n",
       "      <th>V28</th>\n",
       "      <th>Amount</th>\n",
       "      <th>Class</th>\n",
       "    </tr>\n",
       "  </thead>\n",
       "  <tbody>\n",
       "    <tr>\n",
       "      <th>0</th>\n",
       "      <td>0.0</td>\n",
       "      <td>-1.359807</td>\n",
       "      <td>-0.072781</td>\n",
       "      <td>2.536347</td>\n",
       "      <td>1.378155</td>\n",
       "      <td>-0.338321</td>\n",
       "      <td>0.462388</td>\n",
       "      <td>0.239599</td>\n",
       "      <td>0.098698</td>\n",
       "      <td>0.363787</td>\n",
       "      <td>...</td>\n",
       "      <td>-0.018307</td>\n",
       "      <td>0.277838</td>\n",
       "      <td>-0.110474</td>\n",
       "      <td>0.066928</td>\n",
       "      <td>0.128539</td>\n",
       "      <td>-0.189115</td>\n",
       "      <td>0.133558</td>\n",
       "      <td>-0.021053</td>\n",
       "      <td>149.62</td>\n",
       "      <td>0</td>\n",
       "    </tr>\n",
       "    <tr>\n",
       "      <th>1</th>\n",
       "      <td>0.0</td>\n",
       "      <td>1.191857</td>\n",
       "      <td>0.266151</td>\n",
       "      <td>0.166480</td>\n",
       "      <td>0.448154</td>\n",
       "      <td>0.060018</td>\n",
       "      <td>-0.082361</td>\n",
       "      <td>-0.078803</td>\n",
       "      <td>0.085102</td>\n",
       "      <td>-0.255425</td>\n",
       "      <td>...</td>\n",
       "      <td>-0.225775</td>\n",
       "      <td>-0.638672</td>\n",
       "      <td>0.101288</td>\n",
       "      <td>-0.339846</td>\n",
       "      <td>0.167170</td>\n",
       "      <td>0.125895</td>\n",
       "      <td>-0.008983</td>\n",
       "      <td>0.014724</td>\n",
       "      <td>2.69</td>\n",
       "      <td>0</td>\n",
       "    </tr>\n",
       "    <tr>\n",
       "      <th>2</th>\n",
       "      <td>1.0</td>\n",
       "      <td>-1.358354</td>\n",
       "      <td>-1.340163</td>\n",
       "      <td>1.773209</td>\n",
       "      <td>0.379780</td>\n",
       "      <td>-0.503198</td>\n",
       "      <td>1.800499</td>\n",
       "      <td>0.791461</td>\n",
       "      <td>0.247676</td>\n",
       "      <td>-1.514654</td>\n",
       "      <td>...</td>\n",
       "      <td>0.247998</td>\n",
       "      <td>0.771679</td>\n",
       "      <td>0.909412</td>\n",
       "      <td>-0.689281</td>\n",
       "      <td>-0.327642</td>\n",
       "      <td>-0.139097</td>\n",
       "      <td>-0.055353</td>\n",
       "      <td>-0.059752</td>\n",
       "      <td>378.66</td>\n",
       "      <td>0</td>\n",
       "    </tr>\n",
       "    <tr>\n",
       "      <th>3</th>\n",
       "      <td>1.0</td>\n",
       "      <td>-0.966272</td>\n",
       "      <td>-0.185226</td>\n",
       "      <td>1.792993</td>\n",
       "      <td>-0.863291</td>\n",
       "      <td>-0.010309</td>\n",
       "      <td>1.247203</td>\n",
       "      <td>0.237609</td>\n",
       "      <td>0.377436</td>\n",
       "      <td>-1.387024</td>\n",
       "      <td>...</td>\n",
       "      <td>-0.108300</td>\n",
       "      <td>0.005274</td>\n",
       "      <td>-0.190321</td>\n",
       "      <td>-1.175575</td>\n",
       "      <td>0.647376</td>\n",
       "      <td>-0.221929</td>\n",
       "      <td>0.062723</td>\n",
       "      <td>0.061458</td>\n",
       "      <td>123.50</td>\n",
       "      <td>0</td>\n",
       "    </tr>\n",
       "    <tr>\n",
       "      <th>4</th>\n",
       "      <td>2.0</td>\n",
       "      <td>-1.158233</td>\n",
       "      <td>0.877737</td>\n",
       "      <td>1.548718</td>\n",
       "      <td>0.403034</td>\n",
       "      <td>-0.407193</td>\n",
       "      <td>0.095921</td>\n",
       "      <td>0.592941</td>\n",
       "      <td>-0.270533</td>\n",
       "      <td>0.817739</td>\n",
       "      <td>...</td>\n",
       "      <td>-0.009431</td>\n",
       "      <td>0.798278</td>\n",
       "      <td>-0.137458</td>\n",
       "      <td>0.141267</td>\n",
       "      <td>-0.206010</td>\n",
       "      <td>0.502292</td>\n",
       "      <td>0.219422</td>\n",
       "      <td>0.215153</td>\n",
       "      <td>69.99</td>\n",
       "      <td>0</td>\n",
       "    </tr>\n",
       "  </tbody>\n",
       "</table>\n",
       "<p>5 rows × 31 columns</p>\n",
       "</div>"
      ],
      "text/plain": [
       "   Time        V1        V2        V3        V4        V5        V6        V7  \\\n",
       "0   0.0 -1.359807 -0.072781  2.536347  1.378155 -0.338321  0.462388  0.239599   \n",
       "1   0.0  1.191857  0.266151  0.166480  0.448154  0.060018 -0.082361 -0.078803   \n",
       "2   1.0 -1.358354 -1.340163  1.773209  0.379780 -0.503198  1.800499  0.791461   \n",
       "3   1.0 -0.966272 -0.185226  1.792993 -0.863291 -0.010309  1.247203  0.237609   \n",
       "4   2.0 -1.158233  0.877737  1.548718  0.403034 -0.407193  0.095921  0.592941   \n",
       "\n",
       "         V8        V9  ...       V21       V22       V23       V24       V25  \\\n",
       "0  0.098698  0.363787  ... -0.018307  0.277838 -0.110474  0.066928  0.128539   \n",
       "1  0.085102 -0.255425  ... -0.225775 -0.638672  0.101288 -0.339846  0.167170   \n",
       "2  0.247676 -1.514654  ...  0.247998  0.771679  0.909412 -0.689281 -0.327642   \n",
       "3  0.377436 -1.387024  ... -0.108300  0.005274 -0.190321 -1.175575  0.647376   \n",
       "4 -0.270533  0.817739  ... -0.009431  0.798278 -0.137458  0.141267 -0.206010   \n",
       "\n",
       "        V26       V27       V28  Amount  Class  \n",
       "0 -0.189115  0.133558 -0.021053  149.62      0  \n",
       "1  0.125895 -0.008983  0.014724    2.69      0  \n",
       "2 -0.139097 -0.055353 -0.059752  378.66      0  \n",
       "3 -0.221929  0.062723  0.061458  123.50      0  \n",
       "4  0.502292  0.219422  0.215153   69.99      0  \n",
       "\n",
       "[5 rows x 31 columns]"
      ]
     },
     "execution_count": 2,
     "metadata": {},
     "output_type": "execute_result"
    }
   ],
   "source": [
    "df=pd.read_csv('creditcard.csv')\n",
    "df.head()"
   ]
  },
  {
   "cell_type": "code",
   "execution_count": 3,
   "metadata": {},
   "outputs": [],
   "source": [
    "# Checking for null values"
   ]
  },
  {
   "cell_type": "code",
   "execution_count": 4,
   "metadata": {
    "scrolled": false
   },
   "outputs": [
    {
     "data": {
      "text/plain": [
       "Time      0\n",
       "V1        0\n",
       "V2        0\n",
       "V3        0\n",
       "V4        0\n",
       "V5        0\n",
       "V6        0\n",
       "V7        0\n",
       "V8        0\n",
       "V9        0\n",
       "V10       0\n",
       "V11       0\n",
       "V12       0\n",
       "V13       0\n",
       "V14       0\n",
       "V15       0\n",
       "V16       0\n",
       "V17       0\n",
       "V18       0\n",
       "V19       0\n",
       "V20       0\n",
       "V21       0\n",
       "V22       0\n",
       "V23       0\n",
       "V24       0\n",
       "V25       0\n",
       "V26       0\n",
       "V27       0\n",
       "V28       0\n",
       "Amount    0\n",
       "Class     0\n",
       "dtype: int64"
      ]
     },
     "execution_count": 4,
     "metadata": {},
     "output_type": "execute_result"
    }
   ],
   "source": [
    "df.isna().sum()"
   ]
  },
  {
   "cell_type": "code",
   "execution_count": 5,
   "metadata": {
    "scrolled": true
   },
   "outputs": [
    {
     "data": {
      "text/plain": [
       "0    284315\n",
       "1       492\n",
       "Name: Class, dtype: int64"
      ]
     },
     "execution_count": 5,
     "metadata": {},
     "output_type": "execute_result"
    }
   ],
   "source": [
    "# Distribution of legit transaction and fraudlant transaction\n",
    "df.Class.value_counts()"
   ]
  },
  {
   "cell_type": "markdown",
   "metadata": {},
   "source": [
    "The dataset above is highly unbalanced.\n",
    "\n",
    "0 ---->  Normal transaction\n",
    "1 -----> Fraudlant transaction"
   ]
  },
  {
   "cell_type": "code",
   "execution_count": 6,
   "metadata": {},
   "outputs": [],
   "source": [
    "# Seperation the data for anlysis purpose\n",
    "\n",
    "legit_transaction = df[df.Class==0]\n",
    "fraud_transaction = df[df.Class==1]"
   ]
  },
  {
   "cell_type": "code",
   "execution_count": 7,
   "metadata": {},
   "outputs": [],
   "source": [
    "# Checking for the amount column how it diffrentiate"
   ]
  },
  {
   "cell_type": "code",
   "execution_count": 8,
   "metadata": {
    "scrolled": false
   },
   "outputs": [
    {
     "data": {
      "text/plain": [
       "count    284315.000000\n",
       "mean         88.291022\n",
       "std         250.105092\n",
       "min           0.000000\n",
       "25%           5.650000\n",
       "50%          22.000000\n",
       "75%          77.050000\n",
       "max       25691.160000\n",
       "Name: Amount, dtype: float64"
      ]
     },
     "execution_count": 8,
     "metadata": {},
     "output_type": "execute_result"
    }
   ],
   "source": [
    "legit_transaction.Amount.describe()"
   ]
  },
  {
   "cell_type": "code",
   "execution_count": 9,
   "metadata": {
    "scrolled": false
   },
   "outputs": [
    {
     "data": {
      "text/plain": [
       "count     492.000000\n",
       "mean      122.211321\n",
       "std       256.683288\n",
       "min         0.000000\n",
       "25%         1.000000\n",
       "50%         9.250000\n",
       "75%       105.890000\n",
       "max      2125.870000\n",
       "Name: Amount, dtype: float64"
      ]
     },
     "execution_count": 9,
     "metadata": {},
     "output_type": "execute_result"
    }
   ],
   "source": [
    "fraud_transaction.Amount.describe()"
   ]
  },
  {
   "cell_type": "code",
   "execution_count": 10,
   "metadata": {},
   "outputs": [
    {
     "data": {
      "text/html": [
       "<div>\n",
       "<style scoped>\n",
       "    .dataframe tbody tr th:only-of-type {\n",
       "        vertical-align: middle;\n",
       "    }\n",
       "\n",
       "    .dataframe tbody tr th {\n",
       "        vertical-align: top;\n",
       "    }\n",
       "\n",
       "    .dataframe thead th {\n",
       "        text-align: right;\n",
       "    }\n",
       "</style>\n",
       "<table border=\"1\" class=\"dataframe\">\n",
       "  <thead>\n",
       "    <tr style=\"text-align: right;\">\n",
       "      <th></th>\n",
       "      <th>Time</th>\n",
       "      <th>V1</th>\n",
       "      <th>V2</th>\n",
       "      <th>V3</th>\n",
       "      <th>V4</th>\n",
       "      <th>V5</th>\n",
       "      <th>V6</th>\n",
       "      <th>V7</th>\n",
       "      <th>V8</th>\n",
       "      <th>V9</th>\n",
       "      <th>...</th>\n",
       "      <th>V20</th>\n",
       "      <th>V21</th>\n",
       "      <th>V22</th>\n",
       "      <th>V23</th>\n",
       "      <th>V24</th>\n",
       "      <th>V25</th>\n",
       "      <th>V26</th>\n",
       "      <th>V27</th>\n",
       "      <th>V28</th>\n",
       "      <th>Amount</th>\n",
       "    </tr>\n",
       "    <tr>\n",
       "      <th>Class</th>\n",
       "      <th></th>\n",
       "      <th></th>\n",
       "      <th></th>\n",
       "      <th></th>\n",
       "      <th></th>\n",
       "      <th></th>\n",
       "      <th></th>\n",
       "      <th></th>\n",
       "      <th></th>\n",
       "      <th></th>\n",
       "      <th></th>\n",
       "      <th></th>\n",
       "      <th></th>\n",
       "      <th></th>\n",
       "      <th></th>\n",
       "      <th></th>\n",
       "      <th></th>\n",
       "      <th></th>\n",
       "      <th></th>\n",
       "      <th></th>\n",
       "      <th></th>\n",
       "    </tr>\n",
       "  </thead>\n",
       "  <tbody>\n",
       "    <tr>\n",
       "      <th>0</th>\n",
       "      <td>284315</td>\n",
       "      <td>284315</td>\n",
       "      <td>284315</td>\n",
       "      <td>284315</td>\n",
       "      <td>284315</td>\n",
       "      <td>284315</td>\n",
       "      <td>284315</td>\n",
       "      <td>284315</td>\n",
       "      <td>284315</td>\n",
       "      <td>284315</td>\n",
       "      <td>...</td>\n",
       "      <td>284315</td>\n",
       "      <td>284315</td>\n",
       "      <td>284315</td>\n",
       "      <td>284315</td>\n",
       "      <td>284315</td>\n",
       "      <td>284315</td>\n",
       "      <td>284315</td>\n",
       "      <td>284315</td>\n",
       "      <td>284315</td>\n",
       "      <td>284315</td>\n",
       "    </tr>\n",
       "    <tr>\n",
       "      <th>1</th>\n",
       "      <td>492</td>\n",
       "      <td>492</td>\n",
       "      <td>492</td>\n",
       "      <td>492</td>\n",
       "      <td>492</td>\n",
       "      <td>492</td>\n",
       "      <td>492</td>\n",
       "      <td>492</td>\n",
       "      <td>492</td>\n",
       "      <td>492</td>\n",
       "      <td>...</td>\n",
       "      <td>492</td>\n",
       "      <td>492</td>\n",
       "      <td>492</td>\n",
       "      <td>492</td>\n",
       "      <td>492</td>\n",
       "      <td>492</td>\n",
       "      <td>492</td>\n",
       "      <td>492</td>\n",
       "      <td>492</td>\n",
       "      <td>492</td>\n",
       "    </tr>\n",
       "  </tbody>\n",
       "</table>\n",
       "<p>2 rows × 30 columns</p>\n",
       "</div>"
      ],
      "text/plain": [
       "         Time      V1      V2      V3      V4      V5      V6      V7      V8  \\\n",
       "Class                                                                           \n",
       "0      284315  284315  284315  284315  284315  284315  284315  284315  284315   \n",
       "1         492     492     492     492     492     492     492     492     492   \n",
       "\n",
       "           V9  ...     V20     V21     V22     V23     V24     V25     V26  \\\n",
       "Class          ...                                                           \n",
       "0      284315  ...  284315  284315  284315  284315  284315  284315  284315   \n",
       "1         492  ...     492     492     492     492     492     492     492   \n",
       "\n",
       "          V27     V28  Amount  \n",
       "Class                          \n",
       "0      284315  284315  284315  \n",
       "1         492     492     492  \n",
       "\n",
       "[2 rows x 30 columns]"
      ]
     },
     "execution_count": 10,
     "metadata": {},
     "output_type": "execute_result"
    }
   ],
   "source": [
    "df.groupby('Class').count()"
   ]
  },
  {
   "cell_type": "code",
   "execution_count": 11,
   "metadata": {},
   "outputs": [],
   "source": [
    "# Applying under sampling to the legit transaction"
   ]
  },
  {
   "cell_type": "code",
   "execution_count": 12,
   "metadata": {
    "scrolled": false
   },
   "outputs": [
    {
     "data": {
      "text/html": [
       "<div>\n",
       "<style scoped>\n",
       "    .dataframe tbody tr th:only-of-type {\n",
       "        vertical-align: middle;\n",
       "    }\n",
       "\n",
       "    .dataframe tbody tr th {\n",
       "        vertical-align: top;\n",
       "    }\n",
       "\n",
       "    .dataframe thead th {\n",
       "        text-align: right;\n",
       "    }\n",
       "</style>\n",
       "<table border=\"1\" class=\"dataframe\">\n",
       "  <thead>\n",
       "    <tr style=\"text-align: right;\">\n",
       "      <th></th>\n",
       "      <th>Time</th>\n",
       "      <th>V1</th>\n",
       "      <th>V2</th>\n",
       "      <th>V3</th>\n",
       "      <th>V4</th>\n",
       "      <th>V5</th>\n",
       "      <th>V6</th>\n",
       "      <th>V7</th>\n",
       "      <th>V8</th>\n",
       "      <th>V9</th>\n",
       "      <th>...</th>\n",
       "      <th>V21</th>\n",
       "      <th>V22</th>\n",
       "      <th>V23</th>\n",
       "      <th>V24</th>\n",
       "      <th>V25</th>\n",
       "      <th>V26</th>\n",
       "      <th>V27</th>\n",
       "      <th>V28</th>\n",
       "      <th>Amount</th>\n",
       "      <th>Class</th>\n",
       "    </tr>\n",
       "  </thead>\n",
       "  <tbody>\n",
       "    <tr>\n",
       "      <th>265804</th>\n",
       "      <td>162056.0</td>\n",
       "      <td>-0.055693</td>\n",
       "      <td>0.792946</td>\n",
       "      <td>-3.217905</td>\n",
       "      <td>-1.383573</td>\n",
       "      <td>3.166645</td>\n",
       "      <td>2.857917</td>\n",
       "      <td>0.829036</td>\n",
       "      <td>1.019802</td>\n",
       "      <td>-0.785333</td>\n",
       "      <td>...</td>\n",
       "      <td>0.245084</td>\n",
       "      <td>0.482323</td>\n",
       "      <td>0.109856</td>\n",
       "      <td>0.663649</td>\n",
       "      <td>-0.319433</td>\n",
       "      <td>0.563211</td>\n",
       "      <td>-0.091563</td>\n",
       "      <td>0.032340</td>\n",
       "      <td>85.25</td>\n",
       "      <td>0</td>\n",
       "    </tr>\n",
       "    <tr>\n",
       "      <th>37318</th>\n",
       "      <td>38905.0</td>\n",
       "      <td>1.207533</td>\n",
       "      <td>-0.502016</td>\n",
       "      <td>-0.222169</td>\n",
       "      <td>0.330074</td>\n",
       "      <td>-0.309177</td>\n",
       "      <td>-0.022250</td>\n",
       "      <td>-0.115285</td>\n",
       "      <td>-0.075422</td>\n",
       "      <td>-1.133517</td>\n",
       "      <td>...</td>\n",
       "      <td>-0.348886</td>\n",
       "      <td>-0.595661</td>\n",
       "      <td>-0.255672</td>\n",
       "      <td>-0.521394</td>\n",
       "      <td>0.781503</td>\n",
       "      <td>-0.249623</td>\n",
       "      <td>0.015311</td>\n",
       "      <td>0.014276</td>\n",
       "      <td>87.94</td>\n",
       "      <td>0</td>\n",
       "    </tr>\n",
       "    <tr>\n",
       "      <th>13560</th>\n",
       "      <td>24050.0</td>\n",
       "      <td>1.216761</td>\n",
       "      <td>0.698963</td>\n",
       "      <td>-0.137686</td>\n",
       "      <td>2.527629</td>\n",
       "      <td>0.618533</td>\n",
       "      <td>-0.314776</td>\n",
       "      <td>0.486486</td>\n",
       "      <td>-0.303207</td>\n",
       "      <td>0.330209</td>\n",
       "      <td>...</td>\n",
       "      <td>-0.200891</td>\n",
       "      <td>-0.448693</td>\n",
       "      <td>-0.226691</td>\n",
       "      <td>-0.523911</td>\n",
       "      <td>0.793878</td>\n",
       "      <td>0.079119</td>\n",
       "      <td>-0.076812</td>\n",
       "      <td>0.001141</td>\n",
       "      <td>41.51</td>\n",
       "      <td>0</td>\n",
       "    </tr>\n",
       "    <tr>\n",
       "      <th>283409</th>\n",
       "      <td>171571.0</td>\n",
       "      <td>2.105061</td>\n",
       "      <td>-0.147111</td>\n",
       "      <td>-1.377191</td>\n",
       "      <td>0.265695</td>\n",
       "      <td>0.104095</td>\n",
       "      <td>-0.840445</td>\n",
       "      <td>0.108064</td>\n",
       "      <td>-0.236636</td>\n",
       "      <td>0.734680</td>\n",
       "      <td>...</td>\n",
       "      <td>-0.344164</td>\n",
       "      <td>-0.906802</td>\n",
       "      <td>0.263997</td>\n",
       "      <td>-0.681016</td>\n",
       "      <td>-0.239797</td>\n",
       "      <td>0.241736</td>\n",
       "      <td>-0.078456</td>\n",
       "      <td>-0.068548</td>\n",
       "      <td>4.49</td>\n",
       "      <td>0</td>\n",
       "    </tr>\n",
       "    <tr>\n",
       "      <th>162760</th>\n",
       "      <td>115346.0</td>\n",
       "      <td>0.153802</td>\n",
       "      <td>0.214506</td>\n",
       "      <td>0.843605</td>\n",
       "      <td>-0.814451</td>\n",
       "      <td>-0.078554</td>\n",
       "      <td>-0.062051</td>\n",
       "      <td>0.183226</td>\n",
       "      <td>0.103653</td>\n",
       "      <td>0.846100</td>\n",
       "      <td>...</td>\n",
       "      <td>0.247535</td>\n",
       "      <td>0.817880</td>\n",
       "      <td>-0.025091</td>\n",
       "      <td>0.695084</td>\n",
       "      <td>-0.339963</td>\n",
       "      <td>0.022540</td>\n",
       "      <td>0.043392</td>\n",
       "      <td>0.017801</td>\n",
       "      <td>32.00</td>\n",
       "      <td>0</td>\n",
       "    </tr>\n",
       "    <tr>\n",
       "      <th>...</th>\n",
       "      <td>...</td>\n",
       "      <td>...</td>\n",
       "      <td>...</td>\n",
       "      <td>...</td>\n",
       "      <td>...</td>\n",
       "      <td>...</td>\n",
       "      <td>...</td>\n",
       "      <td>...</td>\n",
       "      <td>...</td>\n",
       "      <td>...</td>\n",
       "      <td>...</td>\n",
       "      <td>...</td>\n",
       "      <td>...</td>\n",
       "      <td>...</td>\n",
       "      <td>...</td>\n",
       "      <td>...</td>\n",
       "      <td>...</td>\n",
       "      <td>...</td>\n",
       "      <td>...</td>\n",
       "      <td>...</td>\n",
       "      <td>...</td>\n",
       "    </tr>\n",
       "    <tr>\n",
       "      <th>67590</th>\n",
       "      <td>52610.0</td>\n",
       "      <td>1.272545</td>\n",
       "      <td>0.214337</td>\n",
       "      <td>0.197844</td>\n",
       "      <td>0.306654</td>\n",
       "      <td>0.030933</td>\n",
       "      <td>-0.180431</td>\n",
       "      <td>-0.016456</td>\n",
       "      <td>-0.039388</td>\n",
       "      <td>-0.247114</td>\n",
       "      <td>...</td>\n",
       "      <td>-0.252251</td>\n",
       "      <td>-0.737040</td>\n",
       "      <td>0.013215</td>\n",
       "      <td>-0.486059</td>\n",
       "      <td>0.316874</td>\n",
       "      <td>0.126240</td>\n",
       "      <td>-0.030460</td>\n",
       "      <td>0.002032</td>\n",
       "      <td>3.59</td>\n",
       "      <td>0</td>\n",
       "    </tr>\n",
       "    <tr>\n",
       "      <th>163908</th>\n",
       "      <td>116309.0</td>\n",
       "      <td>-1.421616</td>\n",
       "      <td>0.473430</td>\n",
       "      <td>1.189947</td>\n",
       "      <td>0.721422</td>\n",
       "      <td>0.222399</td>\n",
       "      <td>0.460909</td>\n",
       "      <td>-0.243492</td>\n",
       "      <td>0.910755</td>\n",
       "      <td>-0.239177</td>\n",
       "      <td>...</td>\n",
       "      <td>-0.187857</td>\n",
       "      <td>-0.928745</td>\n",
       "      <td>-0.181448</td>\n",
       "      <td>-1.174822</td>\n",
       "      <td>0.379792</td>\n",
       "      <td>-0.611088</td>\n",
       "      <td>0.204308</td>\n",
       "      <td>-0.021156</td>\n",
       "      <td>49.01</td>\n",
       "      <td>0</td>\n",
       "    </tr>\n",
       "    <tr>\n",
       "      <th>845</th>\n",
       "      <td>646.0</td>\n",
       "      <td>-0.916848</td>\n",
       "      <td>1.471812</td>\n",
       "      <td>0.742995</td>\n",
       "      <td>-0.131084</td>\n",
       "      <td>0.518566</td>\n",
       "      <td>0.772582</td>\n",
       "      <td>-0.342258</td>\n",
       "      <td>-2.248702</td>\n",
       "      <td>-0.574626</td>\n",
       "      <td>...</td>\n",
       "      <td>2.114718</td>\n",
       "      <td>-1.311987</td>\n",
       "      <td>0.155953</td>\n",
       "      <td>-1.070769</td>\n",
       "      <td>-0.454872</td>\n",
       "      <td>0.186908</td>\n",
       "      <td>0.227996</td>\n",
       "      <td>0.152385</td>\n",
       "      <td>1.79</td>\n",
       "      <td>0</td>\n",
       "    </tr>\n",
       "    <tr>\n",
       "      <th>137012</th>\n",
       "      <td>81980.0</td>\n",
       "      <td>-0.534817</td>\n",
       "      <td>0.450906</td>\n",
       "      <td>1.870975</td>\n",
       "      <td>1.302771</td>\n",
       "      <td>0.506673</td>\n",
       "      <td>0.106984</td>\n",
       "      <td>0.431860</td>\n",
       "      <td>0.072194</td>\n",
       "      <td>-0.384349</td>\n",
       "      <td>...</td>\n",
       "      <td>0.022404</td>\n",
       "      <td>0.307295</td>\n",
       "      <td>-0.166736</td>\n",
       "      <td>0.207879</td>\n",
       "      <td>-0.109964</td>\n",
       "      <td>-0.267092</td>\n",
       "      <td>-0.018224</td>\n",
       "      <td>-0.103156</td>\n",
       "      <td>4.99</td>\n",
       "      <td>0</td>\n",
       "    </tr>\n",
       "    <tr>\n",
       "      <th>82838</th>\n",
       "      <td>59574.0</td>\n",
       "      <td>0.996763</td>\n",
       "      <td>-0.922956</td>\n",
       "      <td>0.605130</td>\n",
       "      <td>0.518785</td>\n",
       "      <td>-1.218758</td>\n",
       "      <td>-0.038575</td>\n",
       "      <td>-0.660312</td>\n",
       "      <td>0.120338</td>\n",
       "      <td>-0.840504</td>\n",
       "      <td>...</td>\n",
       "      <td>-0.138173</td>\n",
       "      <td>-0.323453</td>\n",
       "      <td>-0.155431</td>\n",
       "      <td>-0.068769</td>\n",
       "      <td>0.303789</td>\n",
       "      <td>-0.307894</td>\n",
       "      <td>0.028724</td>\n",
       "      <td>0.047434</td>\n",
       "      <td>158.00</td>\n",
       "      <td>0</td>\n",
       "    </tr>\n",
       "  </tbody>\n",
       "</table>\n",
       "<p>492 rows × 31 columns</p>\n",
       "</div>"
      ],
      "text/plain": [
       "            Time        V1        V2        V3        V4        V5        V6  \\\n",
       "265804  162056.0 -0.055693  0.792946 -3.217905 -1.383573  3.166645  2.857917   \n",
       "37318    38905.0  1.207533 -0.502016 -0.222169  0.330074 -0.309177 -0.022250   \n",
       "13560    24050.0  1.216761  0.698963 -0.137686  2.527629  0.618533 -0.314776   \n",
       "283409  171571.0  2.105061 -0.147111 -1.377191  0.265695  0.104095 -0.840445   \n",
       "162760  115346.0  0.153802  0.214506  0.843605 -0.814451 -0.078554 -0.062051   \n",
       "...          ...       ...       ...       ...       ...       ...       ...   \n",
       "67590    52610.0  1.272545  0.214337  0.197844  0.306654  0.030933 -0.180431   \n",
       "163908  116309.0 -1.421616  0.473430  1.189947  0.721422  0.222399  0.460909   \n",
       "845        646.0 -0.916848  1.471812  0.742995 -0.131084  0.518566  0.772582   \n",
       "137012   81980.0 -0.534817  0.450906  1.870975  1.302771  0.506673  0.106984   \n",
       "82838    59574.0  0.996763 -0.922956  0.605130  0.518785 -1.218758 -0.038575   \n",
       "\n",
       "              V7        V8        V9  ...       V21       V22       V23  \\\n",
       "265804  0.829036  1.019802 -0.785333  ...  0.245084  0.482323  0.109856   \n",
       "37318  -0.115285 -0.075422 -1.133517  ... -0.348886 -0.595661 -0.255672   \n",
       "13560   0.486486 -0.303207  0.330209  ... -0.200891 -0.448693 -0.226691   \n",
       "283409  0.108064 -0.236636  0.734680  ... -0.344164 -0.906802  0.263997   \n",
       "162760  0.183226  0.103653  0.846100  ...  0.247535  0.817880 -0.025091   \n",
       "...          ...       ...       ...  ...       ...       ...       ...   \n",
       "67590  -0.016456 -0.039388 -0.247114  ... -0.252251 -0.737040  0.013215   \n",
       "163908 -0.243492  0.910755 -0.239177  ... -0.187857 -0.928745 -0.181448   \n",
       "845    -0.342258 -2.248702 -0.574626  ...  2.114718 -1.311987  0.155953   \n",
       "137012  0.431860  0.072194 -0.384349  ...  0.022404  0.307295 -0.166736   \n",
       "82838  -0.660312  0.120338 -0.840504  ... -0.138173 -0.323453 -0.155431   \n",
       "\n",
       "             V24       V25       V26       V27       V28  Amount  Class  \n",
       "265804  0.663649 -0.319433  0.563211 -0.091563  0.032340   85.25      0  \n",
       "37318  -0.521394  0.781503 -0.249623  0.015311  0.014276   87.94      0  \n",
       "13560  -0.523911  0.793878  0.079119 -0.076812  0.001141   41.51      0  \n",
       "283409 -0.681016 -0.239797  0.241736 -0.078456 -0.068548    4.49      0  \n",
       "162760  0.695084 -0.339963  0.022540  0.043392  0.017801   32.00      0  \n",
       "...          ...       ...       ...       ...       ...     ...    ...  \n",
       "67590  -0.486059  0.316874  0.126240 -0.030460  0.002032    3.59      0  \n",
       "163908 -1.174822  0.379792 -0.611088  0.204308 -0.021156   49.01      0  \n",
       "845    -1.070769 -0.454872  0.186908  0.227996  0.152385    1.79      0  \n",
       "137012  0.207879 -0.109964 -0.267092 -0.018224 -0.103156    4.99      0  \n",
       "82838  -0.068769  0.303789 -0.307894  0.028724  0.047434  158.00      0  \n",
       "\n",
       "[492 rows x 31 columns]"
      ]
     },
     "execution_count": 12,
     "metadata": {},
     "output_type": "execute_result"
    }
   ],
   "source": [
    "sampled_transaction = legit_transaction.sample(n=492)\n",
    "sampled_transaction"
   ]
  },
  {
   "cell_type": "code",
   "execution_count": 13,
   "metadata": {},
   "outputs": [],
   "source": [
    "# Concatination two dataframes, fraudent dataframe+sampled datframe"
   ]
  },
  {
   "cell_type": "code",
   "execution_count": 14,
   "metadata": {
    "scrolled": true
   },
   "outputs": [
    {
     "data": {
      "text/html": [
       "<div>\n",
       "<style scoped>\n",
       "    .dataframe tbody tr th:only-of-type {\n",
       "        vertical-align: middle;\n",
       "    }\n",
       "\n",
       "    .dataframe tbody tr th {\n",
       "        vertical-align: top;\n",
       "    }\n",
       "\n",
       "    .dataframe thead th {\n",
       "        text-align: right;\n",
       "    }\n",
       "</style>\n",
       "<table border=\"1\" class=\"dataframe\">\n",
       "  <thead>\n",
       "    <tr style=\"text-align: right;\">\n",
       "      <th></th>\n",
       "      <th>Time</th>\n",
       "      <th>V1</th>\n",
       "      <th>V2</th>\n",
       "      <th>V3</th>\n",
       "      <th>V4</th>\n",
       "      <th>V5</th>\n",
       "      <th>V6</th>\n",
       "      <th>V7</th>\n",
       "      <th>V8</th>\n",
       "      <th>V9</th>\n",
       "      <th>...</th>\n",
       "      <th>V21</th>\n",
       "      <th>V22</th>\n",
       "      <th>V23</th>\n",
       "      <th>V24</th>\n",
       "      <th>V25</th>\n",
       "      <th>V26</th>\n",
       "      <th>V27</th>\n",
       "      <th>V28</th>\n",
       "      <th>Amount</th>\n",
       "      <th>Class</th>\n",
       "    </tr>\n",
       "  </thead>\n",
       "  <tbody>\n",
       "    <tr>\n",
       "      <th>265804</th>\n",
       "      <td>162056.0</td>\n",
       "      <td>-0.055693</td>\n",
       "      <td>0.792946</td>\n",
       "      <td>-3.217905</td>\n",
       "      <td>-1.383573</td>\n",
       "      <td>3.166645</td>\n",
       "      <td>2.857917</td>\n",
       "      <td>0.829036</td>\n",
       "      <td>1.019802</td>\n",
       "      <td>-0.785333</td>\n",
       "      <td>...</td>\n",
       "      <td>0.245084</td>\n",
       "      <td>0.482323</td>\n",
       "      <td>0.109856</td>\n",
       "      <td>0.663649</td>\n",
       "      <td>-0.319433</td>\n",
       "      <td>0.563211</td>\n",
       "      <td>-0.091563</td>\n",
       "      <td>0.032340</td>\n",
       "      <td>85.25</td>\n",
       "      <td>0</td>\n",
       "    </tr>\n",
       "    <tr>\n",
       "      <th>37318</th>\n",
       "      <td>38905.0</td>\n",
       "      <td>1.207533</td>\n",
       "      <td>-0.502016</td>\n",
       "      <td>-0.222169</td>\n",
       "      <td>0.330074</td>\n",
       "      <td>-0.309177</td>\n",
       "      <td>-0.022250</td>\n",
       "      <td>-0.115285</td>\n",
       "      <td>-0.075422</td>\n",
       "      <td>-1.133517</td>\n",
       "      <td>...</td>\n",
       "      <td>-0.348886</td>\n",
       "      <td>-0.595661</td>\n",
       "      <td>-0.255672</td>\n",
       "      <td>-0.521394</td>\n",
       "      <td>0.781503</td>\n",
       "      <td>-0.249623</td>\n",
       "      <td>0.015311</td>\n",
       "      <td>0.014276</td>\n",
       "      <td>87.94</td>\n",
       "      <td>0</td>\n",
       "    </tr>\n",
       "    <tr>\n",
       "      <th>13560</th>\n",
       "      <td>24050.0</td>\n",
       "      <td>1.216761</td>\n",
       "      <td>0.698963</td>\n",
       "      <td>-0.137686</td>\n",
       "      <td>2.527629</td>\n",
       "      <td>0.618533</td>\n",
       "      <td>-0.314776</td>\n",
       "      <td>0.486486</td>\n",
       "      <td>-0.303207</td>\n",
       "      <td>0.330209</td>\n",
       "      <td>...</td>\n",
       "      <td>-0.200891</td>\n",
       "      <td>-0.448693</td>\n",
       "      <td>-0.226691</td>\n",
       "      <td>-0.523911</td>\n",
       "      <td>0.793878</td>\n",
       "      <td>0.079119</td>\n",
       "      <td>-0.076812</td>\n",
       "      <td>0.001141</td>\n",
       "      <td>41.51</td>\n",
       "      <td>0</td>\n",
       "    </tr>\n",
       "    <tr>\n",
       "      <th>283409</th>\n",
       "      <td>171571.0</td>\n",
       "      <td>2.105061</td>\n",
       "      <td>-0.147111</td>\n",
       "      <td>-1.377191</td>\n",
       "      <td>0.265695</td>\n",
       "      <td>0.104095</td>\n",
       "      <td>-0.840445</td>\n",
       "      <td>0.108064</td>\n",
       "      <td>-0.236636</td>\n",
       "      <td>0.734680</td>\n",
       "      <td>...</td>\n",
       "      <td>-0.344164</td>\n",
       "      <td>-0.906802</td>\n",
       "      <td>0.263997</td>\n",
       "      <td>-0.681016</td>\n",
       "      <td>-0.239797</td>\n",
       "      <td>0.241736</td>\n",
       "      <td>-0.078456</td>\n",
       "      <td>-0.068548</td>\n",
       "      <td>4.49</td>\n",
       "      <td>0</td>\n",
       "    </tr>\n",
       "    <tr>\n",
       "      <th>162760</th>\n",
       "      <td>115346.0</td>\n",
       "      <td>0.153802</td>\n",
       "      <td>0.214506</td>\n",
       "      <td>0.843605</td>\n",
       "      <td>-0.814451</td>\n",
       "      <td>-0.078554</td>\n",
       "      <td>-0.062051</td>\n",
       "      <td>0.183226</td>\n",
       "      <td>0.103653</td>\n",
       "      <td>0.846100</td>\n",
       "      <td>...</td>\n",
       "      <td>0.247535</td>\n",
       "      <td>0.817880</td>\n",
       "      <td>-0.025091</td>\n",
       "      <td>0.695084</td>\n",
       "      <td>-0.339963</td>\n",
       "      <td>0.022540</td>\n",
       "      <td>0.043392</td>\n",
       "      <td>0.017801</td>\n",
       "      <td>32.00</td>\n",
       "      <td>0</td>\n",
       "    </tr>\n",
       "    <tr>\n",
       "      <th>...</th>\n",
       "      <td>...</td>\n",
       "      <td>...</td>\n",
       "      <td>...</td>\n",
       "      <td>...</td>\n",
       "      <td>...</td>\n",
       "      <td>...</td>\n",
       "      <td>...</td>\n",
       "      <td>...</td>\n",
       "      <td>...</td>\n",
       "      <td>...</td>\n",
       "      <td>...</td>\n",
       "      <td>...</td>\n",
       "      <td>...</td>\n",
       "      <td>...</td>\n",
       "      <td>...</td>\n",
       "      <td>...</td>\n",
       "      <td>...</td>\n",
       "      <td>...</td>\n",
       "      <td>...</td>\n",
       "      <td>...</td>\n",
       "      <td>...</td>\n",
       "    </tr>\n",
       "    <tr>\n",
       "      <th>279863</th>\n",
       "      <td>169142.0</td>\n",
       "      <td>-1.927883</td>\n",
       "      <td>1.125653</td>\n",
       "      <td>-4.518331</td>\n",
       "      <td>1.749293</td>\n",
       "      <td>-1.566487</td>\n",
       "      <td>-2.010494</td>\n",
       "      <td>-0.882850</td>\n",
       "      <td>0.697211</td>\n",
       "      <td>-2.064945</td>\n",
       "      <td>...</td>\n",
       "      <td>0.778584</td>\n",
       "      <td>-0.319189</td>\n",
       "      <td>0.639419</td>\n",
       "      <td>-0.294885</td>\n",
       "      <td>0.537503</td>\n",
       "      <td>0.788395</td>\n",
       "      <td>0.292680</td>\n",
       "      <td>0.147968</td>\n",
       "      <td>390.00</td>\n",
       "      <td>1</td>\n",
       "    </tr>\n",
       "    <tr>\n",
       "      <th>280143</th>\n",
       "      <td>169347.0</td>\n",
       "      <td>1.378559</td>\n",
       "      <td>1.289381</td>\n",
       "      <td>-5.004247</td>\n",
       "      <td>1.411850</td>\n",
       "      <td>0.442581</td>\n",
       "      <td>-1.326536</td>\n",
       "      <td>-1.413170</td>\n",
       "      <td>0.248525</td>\n",
       "      <td>-1.127396</td>\n",
       "      <td>...</td>\n",
       "      <td>0.370612</td>\n",
       "      <td>0.028234</td>\n",
       "      <td>-0.145640</td>\n",
       "      <td>-0.081049</td>\n",
       "      <td>0.521875</td>\n",
       "      <td>0.739467</td>\n",
       "      <td>0.389152</td>\n",
       "      <td>0.186637</td>\n",
       "      <td>0.76</td>\n",
       "      <td>1</td>\n",
       "    </tr>\n",
       "    <tr>\n",
       "      <th>280149</th>\n",
       "      <td>169351.0</td>\n",
       "      <td>-0.676143</td>\n",
       "      <td>1.126366</td>\n",
       "      <td>-2.213700</td>\n",
       "      <td>0.468308</td>\n",
       "      <td>-1.120541</td>\n",
       "      <td>-0.003346</td>\n",
       "      <td>-2.234739</td>\n",
       "      <td>1.210158</td>\n",
       "      <td>-0.652250</td>\n",
       "      <td>...</td>\n",
       "      <td>0.751826</td>\n",
       "      <td>0.834108</td>\n",
       "      <td>0.190944</td>\n",
       "      <td>0.032070</td>\n",
       "      <td>-0.739695</td>\n",
       "      <td>0.471111</td>\n",
       "      <td>0.385107</td>\n",
       "      <td>0.194361</td>\n",
       "      <td>77.89</td>\n",
       "      <td>1</td>\n",
       "    </tr>\n",
       "    <tr>\n",
       "      <th>281144</th>\n",
       "      <td>169966.0</td>\n",
       "      <td>-3.113832</td>\n",
       "      <td>0.585864</td>\n",
       "      <td>-5.399730</td>\n",
       "      <td>1.817092</td>\n",
       "      <td>-0.840618</td>\n",
       "      <td>-2.943548</td>\n",
       "      <td>-2.208002</td>\n",
       "      <td>1.058733</td>\n",
       "      <td>-1.632333</td>\n",
       "      <td>...</td>\n",
       "      <td>0.583276</td>\n",
       "      <td>-0.269209</td>\n",
       "      <td>-0.456108</td>\n",
       "      <td>-0.183659</td>\n",
       "      <td>-0.328168</td>\n",
       "      <td>0.606116</td>\n",
       "      <td>0.884876</td>\n",
       "      <td>-0.253700</td>\n",
       "      <td>245.00</td>\n",
       "      <td>1</td>\n",
       "    </tr>\n",
       "    <tr>\n",
       "      <th>281674</th>\n",
       "      <td>170348.0</td>\n",
       "      <td>1.991976</td>\n",
       "      <td>0.158476</td>\n",
       "      <td>-2.583441</td>\n",
       "      <td>0.408670</td>\n",
       "      <td>1.151147</td>\n",
       "      <td>-0.096695</td>\n",
       "      <td>0.223050</td>\n",
       "      <td>-0.068384</td>\n",
       "      <td>0.577829</td>\n",
       "      <td>...</td>\n",
       "      <td>-0.164350</td>\n",
       "      <td>-0.295135</td>\n",
       "      <td>-0.072173</td>\n",
       "      <td>-0.450261</td>\n",
       "      <td>0.313267</td>\n",
       "      <td>-0.289617</td>\n",
       "      <td>0.002988</td>\n",
       "      <td>-0.015309</td>\n",
       "      <td>42.53</td>\n",
       "      <td>1</td>\n",
       "    </tr>\n",
       "  </tbody>\n",
       "</table>\n",
       "<p>984 rows × 31 columns</p>\n",
       "</div>"
      ],
      "text/plain": [
       "            Time        V1        V2        V3        V4        V5        V6  \\\n",
       "265804  162056.0 -0.055693  0.792946 -3.217905 -1.383573  3.166645  2.857917   \n",
       "37318    38905.0  1.207533 -0.502016 -0.222169  0.330074 -0.309177 -0.022250   \n",
       "13560    24050.0  1.216761  0.698963 -0.137686  2.527629  0.618533 -0.314776   \n",
       "283409  171571.0  2.105061 -0.147111 -1.377191  0.265695  0.104095 -0.840445   \n",
       "162760  115346.0  0.153802  0.214506  0.843605 -0.814451 -0.078554 -0.062051   \n",
       "...          ...       ...       ...       ...       ...       ...       ...   \n",
       "279863  169142.0 -1.927883  1.125653 -4.518331  1.749293 -1.566487 -2.010494   \n",
       "280143  169347.0  1.378559  1.289381 -5.004247  1.411850  0.442581 -1.326536   \n",
       "280149  169351.0 -0.676143  1.126366 -2.213700  0.468308 -1.120541 -0.003346   \n",
       "281144  169966.0 -3.113832  0.585864 -5.399730  1.817092 -0.840618 -2.943548   \n",
       "281674  170348.0  1.991976  0.158476 -2.583441  0.408670  1.151147 -0.096695   \n",
       "\n",
       "              V7        V8        V9  ...       V21       V22       V23  \\\n",
       "265804  0.829036  1.019802 -0.785333  ...  0.245084  0.482323  0.109856   \n",
       "37318  -0.115285 -0.075422 -1.133517  ... -0.348886 -0.595661 -0.255672   \n",
       "13560   0.486486 -0.303207  0.330209  ... -0.200891 -0.448693 -0.226691   \n",
       "283409  0.108064 -0.236636  0.734680  ... -0.344164 -0.906802  0.263997   \n",
       "162760  0.183226  0.103653  0.846100  ...  0.247535  0.817880 -0.025091   \n",
       "...          ...       ...       ...  ...       ...       ...       ...   \n",
       "279863 -0.882850  0.697211 -2.064945  ...  0.778584 -0.319189  0.639419   \n",
       "280143 -1.413170  0.248525 -1.127396  ...  0.370612  0.028234 -0.145640   \n",
       "280149 -2.234739  1.210158 -0.652250  ...  0.751826  0.834108  0.190944   \n",
       "281144 -2.208002  1.058733 -1.632333  ...  0.583276 -0.269209 -0.456108   \n",
       "281674  0.223050 -0.068384  0.577829  ... -0.164350 -0.295135 -0.072173   \n",
       "\n",
       "             V24       V25       V26       V27       V28  Amount  Class  \n",
       "265804  0.663649 -0.319433  0.563211 -0.091563  0.032340   85.25      0  \n",
       "37318  -0.521394  0.781503 -0.249623  0.015311  0.014276   87.94      0  \n",
       "13560  -0.523911  0.793878  0.079119 -0.076812  0.001141   41.51      0  \n",
       "283409 -0.681016 -0.239797  0.241736 -0.078456 -0.068548    4.49      0  \n",
       "162760  0.695084 -0.339963  0.022540  0.043392  0.017801   32.00      0  \n",
       "...          ...       ...       ...       ...       ...     ...    ...  \n",
       "279863 -0.294885  0.537503  0.788395  0.292680  0.147968  390.00      1  \n",
       "280143 -0.081049  0.521875  0.739467  0.389152  0.186637    0.76      1  \n",
       "280149  0.032070 -0.739695  0.471111  0.385107  0.194361   77.89      1  \n",
       "281144 -0.183659 -0.328168  0.606116  0.884876 -0.253700  245.00      1  \n",
       "281674 -0.450261  0.313267 -0.289617  0.002988 -0.015309   42.53      1  \n",
       "\n",
       "[984 rows x 31 columns]"
      ]
     },
     "execution_count": 14,
     "metadata": {},
     "output_type": "execute_result"
    }
   ],
   "source": [
    "new_dataframe=pd.concat([sampled_transaction,fraud_transaction],axis=0)\n",
    "new_dataframe"
   ]
  },
  {
   "cell_type": "code",
   "execution_count": 15,
   "metadata": {},
   "outputs": [
    {
     "data": {
      "text/html": [
       "<div>\n",
       "<style scoped>\n",
       "    .dataframe tbody tr th:only-of-type {\n",
       "        vertical-align: middle;\n",
       "    }\n",
       "\n",
       "    .dataframe tbody tr th {\n",
       "        vertical-align: top;\n",
       "    }\n",
       "\n",
       "    .dataframe thead th {\n",
       "        text-align: right;\n",
       "    }\n",
       "</style>\n",
       "<table border=\"1\" class=\"dataframe\">\n",
       "  <thead>\n",
       "    <tr style=\"text-align: right;\">\n",
       "      <th></th>\n",
       "      <th>Time</th>\n",
       "      <th>V1</th>\n",
       "      <th>V2</th>\n",
       "      <th>V3</th>\n",
       "      <th>V4</th>\n",
       "      <th>V5</th>\n",
       "      <th>V6</th>\n",
       "      <th>V7</th>\n",
       "      <th>V8</th>\n",
       "      <th>V9</th>\n",
       "      <th>...</th>\n",
       "      <th>V20</th>\n",
       "      <th>V21</th>\n",
       "      <th>V22</th>\n",
       "      <th>V23</th>\n",
       "      <th>V24</th>\n",
       "      <th>V25</th>\n",
       "      <th>V26</th>\n",
       "      <th>V27</th>\n",
       "      <th>V28</th>\n",
       "      <th>Amount</th>\n",
       "    </tr>\n",
       "    <tr>\n",
       "      <th>Class</th>\n",
       "      <th></th>\n",
       "      <th></th>\n",
       "      <th></th>\n",
       "      <th></th>\n",
       "      <th></th>\n",
       "      <th></th>\n",
       "      <th></th>\n",
       "      <th></th>\n",
       "      <th></th>\n",
       "      <th></th>\n",
       "      <th></th>\n",
       "      <th></th>\n",
       "      <th></th>\n",
       "      <th></th>\n",
       "      <th></th>\n",
       "      <th></th>\n",
       "      <th></th>\n",
       "      <th></th>\n",
       "      <th></th>\n",
       "      <th></th>\n",
       "      <th></th>\n",
       "    </tr>\n",
       "  </thead>\n",
       "  <tbody>\n",
       "    <tr>\n",
       "      <th>0</th>\n",
       "      <td>95984.977642</td>\n",
       "      <td>0.067654</td>\n",
       "      <td>-0.068874</td>\n",
       "      <td>0.057266</td>\n",
       "      <td>-0.030719</td>\n",
       "      <td>-0.055557</td>\n",
       "      <td>-0.154495</td>\n",
       "      <td>0.069919</td>\n",
       "      <td>-0.016155</td>\n",
       "      <td>0.022188</td>\n",
       "      <td>...</td>\n",
       "      <td>0.006688</td>\n",
       "      <td>-0.053843</td>\n",
       "      <td>0.009319</td>\n",
       "      <td>0.048811</td>\n",
       "      <td>-0.037316</td>\n",
       "      <td>-0.003337</td>\n",
       "      <td>0.015833</td>\n",
       "      <td>0.016284</td>\n",
       "      <td>0.000697</td>\n",
       "      <td>87.810915</td>\n",
       "    </tr>\n",
       "    <tr>\n",
       "      <th>1</th>\n",
       "      <td>80746.806911</td>\n",
       "      <td>-4.771948</td>\n",
       "      <td>3.623778</td>\n",
       "      <td>-7.033281</td>\n",
       "      <td>4.542029</td>\n",
       "      <td>-3.151225</td>\n",
       "      <td>-1.397737</td>\n",
       "      <td>-5.568731</td>\n",
       "      <td>0.570636</td>\n",
       "      <td>-2.581123</td>\n",
       "      <td>...</td>\n",
       "      <td>0.372319</td>\n",
       "      <td>0.713588</td>\n",
       "      <td>0.014049</td>\n",
       "      <td>-0.040308</td>\n",
       "      <td>-0.105130</td>\n",
       "      <td>0.041449</td>\n",
       "      <td>0.051648</td>\n",
       "      <td>0.170575</td>\n",
       "      <td>0.075667</td>\n",
       "      <td>122.211321</td>\n",
       "    </tr>\n",
       "  </tbody>\n",
       "</table>\n",
       "<p>2 rows × 30 columns</p>\n",
       "</div>"
      ],
      "text/plain": [
       "               Time        V1        V2        V3        V4        V5  \\\n",
       "Class                                                                   \n",
       "0      95984.977642  0.067654 -0.068874  0.057266 -0.030719 -0.055557   \n",
       "1      80746.806911 -4.771948  3.623778 -7.033281  4.542029 -3.151225   \n",
       "\n",
       "             V6        V7        V8        V9  ...       V20       V21  \\\n",
       "Class                                          ...                       \n",
       "0     -0.154495  0.069919 -0.016155  0.022188  ...  0.006688 -0.053843   \n",
       "1     -1.397737 -5.568731  0.570636 -2.581123  ...  0.372319  0.713588   \n",
       "\n",
       "            V22       V23       V24       V25       V26       V27       V28  \\\n",
       "Class                                                                         \n",
       "0      0.009319  0.048811 -0.037316 -0.003337  0.015833  0.016284  0.000697   \n",
       "1      0.014049 -0.040308 -0.105130  0.041449  0.051648  0.170575  0.075667   \n",
       "\n",
       "           Amount  \n",
       "Class              \n",
       "0       87.810915  \n",
       "1      122.211321  \n",
       "\n",
       "[2 rows x 30 columns]"
      ]
     },
     "execution_count": 15,
     "metadata": {},
     "output_type": "execute_result"
    }
   ],
   "source": [
    "new_dataframe.groupby('Class').mean()"
   ]
  },
  {
   "cell_type": "code",
   "execution_count": 16,
   "metadata": {},
   "outputs": [],
   "source": [
    "# Spliting the data into features and target\n",
    "# target --- our Class\n",
    "#feature- all the independent variable"
   ]
  },
  {
   "cell_type": "code",
   "execution_count": 17,
   "metadata": {
    "scrolled": true
   },
   "outputs": [
    {
     "data": {
      "text/html": [
       "<div>\n",
       "<style scoped>\n",
       "    .dataframe tbody tr th:only-of-type {\n",
       "        vertical-align: middle;\n",
       "    }\n",
       "\n",
       "    .dataframe tbody tr th {\n",
       "        vertical-align: top;\n",
       "    }\n",
       "\n",
       "    .dataframe thead th {\n",
       "        text-align: right;\n",
       "    }\n",
       "</style>\n",
       "<table border=\"1\" class=\"dataframe\">\n",
       "  <thead>\n",
       "    <tr style=\"text-align: right;\">\n",
       "      <th></th>\n",
       "      <th>Time</th>\n",
       "      <th>V1</th>\n",
       "      <th>V2</th>\n",
       "      <th>V3</th>\n",
       "      <th>V4</th>\n",
       "      <th>V5</th>\n",
       "      <th>V6</th>\n",
       "      <th>V7</th>\n",
       "      <th>V8</th>\n",
       "      <th>V9</th>\n",
       "      <th>...</th>\n",
       "      <th>V20</th>\n",
       "      <th>V21</th>\n",
       "      <th>V22</th>\n",
       "      <th>V23</th>\n",
       "      <th>V24</th>\n",
       "      <th>V25</th>\n",
       "      <th>V26</th>\n",
       "      <th>V27</th>\n",
       "      <th>V28</th>\n",
       "      <th>Amount</th>\n",
       "    </tr>\n",
       "  </thead>\n",
       "  <tbody>\n",
       "    <tr>\n",
       "      <th>265804</th>\n",
       "      <td>162056.0</td>\n",
       "      <td>-0.055693</td>\n",
       "      <td>0.792946</td>\n",
       "      <td>-3.217905</td>\n",
       "      <td>-1.383573</td>\n",
       "      <td>3.166645</td>\n",
       "      <td>2.857917</td>\n",
       "      <td>0.829036</td>\n",
       "      <td>1.019802</td>\n",
       "      <td>-0.785333</td>\n",
       "      <td>...</td>\n",
       "      <td>-0.071076</td>\n",
       "      <td>0.245084</td>\n",
       "      <td>0.482323</td>\n",
       "      <td>0.109856</td>\n",
       "      <td>0.663649</td>\n",
       "      <td>-0.319433</td>\n",
       "      <td>0.563211</td>\n",
       "      <td>-0.091563</td>\n",
       "      <td>0.032340</td>\n",
       "      <td>85.25</td>\n",
       "    </tr>\n",
       "    <tr>\n",
       "      <th>37318</th>\n",
       "      <td>38905.0</td>\n",
       "      <td>1.207533</td>\n",
       "      <td>-0.502016</td>\n",
       "      <td>-0.222169</td>\n",
       "      <td>0.330074</td>\n",
       "      <td>-0.309177</td>\n",
       "      <td>-0.022250</td>\n",
       "      <td>-0.115285</td>\n",
       "      <td>-0.075422</td>\n",
       "      <td>-1.133517</td>\n",
       "      <td>...</td>\n",
       "      <td>-0.368788</td>\n",
       "      <td>-0.348886</td>\n",
       "      <td>-0.595661</td>\n",
       "      <td>-0.255672</td>\n",
       "      <td>-0.521394</td>\n",
       "      <td>0.781503</td>\n",
       "      <td>-0.249623</td>\n",
       "      <td>0.015311</td>\n",
       "      <td>0.014276</td>\n",
       "      <td>87.94</td>\n",
       "    </tr>\n",
       "    <tr>\n",
       "      <th>13560</th>\n",
       "      <td>24050.0</td>\n",
       "      <td>1.216761</td>\n",
       "      <td>0.698963</td>\n",
       "      <td>-0.137686</td>\n",
       "      <td>2.527629</td>\n",
       "      <td>0.618533</td>\n",
       "      <td>-0.314776</td>\n",
       "      <td>0.486486</td>\n",
       "      <td>-0.303207</td>\n",
       "      <td>0.330209</td>\n",
       "      <td>...</td>\n",
       "      <td>-0.123921</td>\n",
       "      <td>-0.200891</td>\n",
       "      <td>-0.448693</td>\n",
       "      <td>-0.226691</td>\n",
       "      <td>-0.523911</td>\n",
       "      <td>0.793878</td>\n",
       "      <td>0.079119</td>\n",
       "      <td>-0.076812</td>\n",
       "      <td>0.001141</td>\n",
       "      <td>41.51</td>\n",
       "    </tr>\n",
       "    <tr>\n",
       "      <th>283409</th>\n",
       "      <td>171571.0</td>\n",
       "      <td>2.105061</td>\n",
       "      <td>-0.147111</td>\n",
       "      <td>-1.377191</td>\n",
       "      <td>0.265695</td>\n",
       "      <td>0.104095</td>\n",
       "      <td>-0.840445</td>\n",
       "      <td>0.108064</td>\n",
       "      <td>-0.236636</td>\n",
       "      <td>0.734680</td>\n",
       "      <td>...</td>\n",
       "      <td>-0.258351</td>\n",
       "      <td>-0.344164</td>\n",
       "      <td>-0.906802</td>\n",
       "      <td>0.263997</td>\n",
       "      <td>-0.681016</td>\n",
       "      <td>-0.239797</td>\n",
       "      <td>0.241736</td>\n",
       "      <td>-0.078456</td>\n",
       "      <td>-0.068548</td>\n",
       "      <td>4.49</td>\n",
       "    </tr>\n",
       "    <tr>\n",
       "      <th>162760</th>\n",
       "      <td>115346.0</td>\n",
       "      <td>0.153802</td>\n",
       "      <td>0.214506</td>\n",
       "      <td>0.843605</td>\n",
       "      <td>-0.814451</td>\n",
       "      <td>-0.078554</td>\n",
       "      <td>-0.062051</td>\n",
       "      <td>0.183226</td>\n",
       "      <td>0.103653</td>\n",
       "      <td>0.846100</td>\n",
       "      <td>...</td>\n",
       "      <td>-0.085901</td>\n",
       "      <td>0.247535</td>\n",
       "      <td>0.817880</td>\n",
       "      <td>-0.025091</td>\n",
       "      <td>0.695084</td>\n",
       "      <td>-0.339963</td>\n",
       "      <td>0.022540</td>\n",
       "      <td>0.043392</td>\n",
       "      <td>0.017801</td>\n",
       "      <td>32.00</td>\n",
       "    </tr>\n",
       "    <tr>\n",
       "      <th>...</th>\n",
       "      <td>...</td>\n",
       "      <td>...</td>\n",
       "      <td>...</td>\n",
       "      <td>...</td>\n",
       "      <td>...</td>\n",
       "      <td>...</td>\n",
       "      <td>...</td>\n",
       "      <td>...</td>\n",
       "      <td>...</td>\n",
       "      <td>...</td>\n",
       "      <td>...</td>\n",
       "      <td>...</td>\n",
       "      <td>...</td>\n",
       "      <td>...</td>\n",
       "      <td>...</td>\n",
       "      <td>...</td>\n",
       "      <td>...</td>\n",
       "      <td>...</td>\n",
       "      <td>...</td>\n",
       "      <td>...</td>\n",
       "      <td>...</td>\n",
       "    </tr>\n",
       "    <tr>\n",
       "      <th>279863</th>\n",
       "      <td>169142.0</td>\n",
       "      <td>-1.927883</td>\n",
       "      <td>1.125653</td>\n",
       "      <td>-4.518331</td>\n",
       "      <td>1.749293</td>\n",
       "      <td>-1.566487</td>\n",
       "      <td>-2.010494</td>\n",
       "      <td>-0.882850</td>\n",
       "      <td>0.697211</td>\n",
       "      <td>-2.064945</td>\n",
       "      <td>...</td>\n",
       "      <td>1.252967</td>\n",
       "      <td>0.778584</td>\n",
       "      <td>-0.319189</td>\n",
       "      <td>0.639419</td>\n",
       "      <td>-0.294885</td>\n",
       "      <td>0.537503</td>\n",
       "      <td>0.788395</td>\n",
       "      <td>0.292680</td>\n",
       "      <td>0.147968</td>\n",
       "      <td>390.00</td>\n",
       "    </tr>\n",
       "    <tr>\n",
       "      <th>280143</th>\n",
       "      <td>169347.0</td>\n",
       "      <td>1.378559</td>\n",
       "      <td>1.289381</td>\n",
       "      <td>-5.004247</td>\n",
       "      <td>1.411850</td>\n",
       "      <td>0.442581</td>\n",
       "      <td>-1.326536</td>\n",
       "      <td>-1.413170</td>\n",
       "      <td>0.248525</td>\n",
       "      <td>-1.127396</td>\n",
       "      <td>...</td>\n",
       "      <td>0.226138</td>\n",
       "      <td>0.370612</td>\n",
       "      <td>0.028234</td>\n",
       "      <td>-0.145640</td>\n",
       "      <td>-0.081049</td>\n",
       "      <td>0.521875</td>\n",
       "      <td>0.739467</td>\n",
       "      <td>0.389152</td>\n",
       "      <td>0.186637</td>\n",
       "      <td>0.76</td>\n",
       "    </tr>\n",
       "    <tr>\n",
       "      <th>280149</th>\n",
       "      <td>169351.0</td>\n",
       "      <td>-0.676143</td>\n",
       "      <td>1.126366</td>\n",
       "      <td>-2.213700</td>\n",
       "      <td>0.468308</td>\n",
       "      <td>-1.120541</td>\n",
       "      <td>-0.003346</td>\n",
       "      <td>-2.234739</td>\n",
       "      <td>1.210158</td>\n",
       "      <td>-0.652250</td>\n",
       "      <td>...</td>\n",
       "      <td>0.247968</td>\n",
       "      <td>0.751826</td>\n",
       "      <td>0.834108</td>\n",
       "      <td>0.190944</td>\n",
       "      <td>0.032070</td>\n",
       "      <td>-0.739695</td>\n",
       "      <td>0.471111</td>\n",
       "      <td>0.385107</td>\n",
       "      <td>0.194361</td>\n",
       "      <td>77.89</td>\n",
       "    </tr>\n",
       "    <tr>\n",
       "      <th>281144</th>\n",
       "      <td>169966.0</td>\n",
       "      <td>-3.113832</td>\n",
       "      <td>0.585864</td>\n",
       "      <td>-5.399730</td>\n",
       "      <td>1.817092</td>\n",
       "      <td>-0.840618</td>\n",
       "      <td>-2.943548</td>\n",
       "      <td>-2.208002</td>\n",
       "      <td>1.058733</td>\n",
       "      <td>-1.632333</td>\n",
       "      <td>...</td>\n",
       "      <td>0.306271</td>\n",
       "      <td>0.583276</td>\n",
       "      <td>-0.269209</td>\n",
       "      <td>-0.456108</td>\n",
       "      <td>-0.183659</td>\n",
       "      <td>-0.328168</td>\n",
       "      <td>0.606116</td>\n",
       "      <td>0.884876</td>\n",
       "      <td>-0.253700</td>\n",
       "      <td>245.00</td>\n",
       "    </tr>\n",
       "    <tr>\n",
       "      <th>281674</th>\n",
       "      <td>170348.0</td>\n",
       "      <td>1.991976</td>\n",
       "      <td>0.158476</td>\n",
       "      <td>-2.583441</td>\n",
       "      <td>0.408670</td>\n",
       "      <td>1.151147</td>\n",
       "      <td>-0.096695</td>\n",
       "      <td>0.223050</td>\n",
       "      <td>-0.068384</td>\n",
       "      <td>0.577829</td>\n",
       "      <td>...</td>\n",
       "      <td>-0.017652</td>\n",
       "      <td>-0.164350</td>\n",
       "      <td>-0.295135</td>\n",
       "      <td>-0.072173</td>\n",
       "      <td>-0.450261</td>\n",
       "      <td>0.313267</td>\n",
       "      <td>-0.289617</td>\n",
       "      <td>0.002988</td>\n",
       "      <td>-0.015309</td>\n",
       "      <td>42.53</td>\n",
       "    </tr>\n",
       "  </tbody>\n",
       "</table>\n",
       "<p>984 rows × 30 columns</p>\n",
       "</div>"
      ],
      "text/plain": [
       "            Time        V1        V2        V3        V4        V5        V6  \\\n",
       "265804  162056.0 -0.055693  0.792946 -3.217905 -1.383573  3.166645  2.857917   \n",
       "37318    38905.0  1.207533 -0.502016 -0.222169  0.330074 -0.309177 -0.022250   \n",
       "13560    24050.0  1.216761  0.698963 -0.137686  2.527629  0.618533 -0.314776   \n",
       "283409  171571.0  2.105061 -0.147111 -1.377191  0.265695  0.104095 -0.840445   \n",
       "162760  115346.0  0.153802  0.214506  0.843605 -0.814451 -0.078554 -0.062051   \n",
       "...          ...       ...       ...       ...       ...       ...       ...   \n",
       "279863  169142.0 -1.927883  1.125653 -4.518331  1.749293 -1.566487 -2.010494   \n",
       "280143  169347.0  1.378559  1.289381 -5.004247  1.411850  0.442581 -1.326536   \n",
       "280149  169351.0 -0.676143  1.126366 -2.213700  0.468308 -1.120541 -0.003346   \n",
       "281144  169966.0 -3.113832  0.585864 -5.399730  1.817092 -0.840618 -2.943548   \n",
       "281674  170348.0  1.991976  0.158476 -2.583441  0.408670  1.151147 -0.096695   \n",
       "\n",
       "              V7        V8        V9  ...       V20       V21       V22  \\\n",
       "265804  0.829036  1.019802 -0.785333  ... -0.071076  0.245084  0.482323   \n",
       "37318  -0.115285 -0.075422 -1.133517  ... -0.368788 -0.348886 -0.595661   \n",
       "13560   0.486486 -0.303207  0.330209  ... -0.123921 -0.200891 -0.448693   \n",
       "283409  0.108064 -0.236636  0.734680  ... -0.258351 -0.344164 -0.906802   \n",
       "162760  0.183226  0.103653  0.846100  ... -0.085901  0.247535  0.817880   \n",
       "...          ...       ...       ...  ...       ...       ...       ...   \n",
       "279863 -0.882850  0.697211 -2.064945  ...  1.252967  0.778584 -0.319189   \n",
       "280143 -1.413170  0.248525 -1.127396  ...  0.226138  0.370612  0.028234   \n",
       "280149 -2.234739  1.210158 -0.652250  ...  0.247968  0.751826  0.834108   \n",
       "281144 -2.208002  1.058733 -1.632333  ...  0.306271  0.583276 -0.269209   \n",
       "281674  0.223050 -0.068384  0.577829  ... -0.017652 -0.164350 -0.295135   \n",
       "\n",
       "             V23       V24       V25       V26       V27       V28  Amount  \n",
       "265804  0.109856  0.663649 -0.319433  0.563211 -0.091563  0.032340   85.25  \n",
       "37318  -0.255672 -0.521394  0.781503 -0.249623  0.015311  0.014276   87.94  \n",
       "13560  -0.226691 -0.523911  0.793878  0.079119 -0.076812  0.001141   41.51  \n",
       "283409  0.263997 -0.681016 -0.239797  0.241736 -0.078456 -0.068548    4.49  \n",
       "162760 -0.025091  0.695084 -0.339963  0.022540  0.043392  0.017801   32.00  \n",
       "...          ...       ...       ...       ...       ...       ...     ...  \n",
       "279863  0.639419 -0.294885  0.537503  0.788395  0.292680  0.147968  390.00  \n",
       "280143 -0.145640 -0.081049  0.521875  0.739467  0.389152  0.186637    0.76  \n",
       "280149  0.190944  0.032070 -0.739695  0.471111  0.385107  0.194361   77.89  \n",
       "281144 -0.456108 -0.183659 -0.328168  0.606116  0.884876 -0.253700  245.00  \n",
       "281674 -0.072173 -0.450261  0.313267 -0.289617  0.002988 -0.015309   42.53  \n",
       "\n",
       "[984 rows x 30 columns]"
      ]
     },
     "execution_count": 17,
     "metadata": {},
     "output_type": "execute_result"
    }
   ],
   "source": [
    "x=new_dataframe.drop('Class',axis=1)\n",
    "x"
   ]
  },
  {
   "cell_type": "code",
   "execution_count": 18,
   "metadata": {
    "scrolled": true
   },
   "outputs": [
    {
     "data": {
      "text/plain": [
       "265804    0\n",
       "37318     0\n",
       "13560     0\n",
       "283409    0\n",
       "162760    0\n",
       "         ..\n",
       "279863    1\n",
       "280143    1\n",
       "280149    1\n",
       "281144    1\n",
       "281674    1\n",
       "Name: Class, Length: 984, dtype: int64"
      ]
     },
     "execution_count": 18,
     "metadata": {},
     "output_type": "execute_result"
    }
   ],
   "source": [
    "y=new_dataframe.Class\n",
    "y"
   ]
  },
  {
   "cell_type": "markdown",
   "metadata": {},
   "source": [
    "# Train test split\n"
   ]
  },
  {
   "cell_type": "code",
   "execution_count": 82,
   "metadata": {},
   "outputs": [],
   "source": [
    "x_train,x_test,y_train,y_test = train_test_split(x,y,test_size=0.2,random_state=2)\n"
   ]
  },
  {
   "cell_type": "code",
   "execution_count": 20,
   "metadata": {},
   "outputs": [],
   "source": [
    "# Logistic regression"
   ]
  },
  {
   "cell_type": "code",
   "execution_count": 83,
   "metadata": {},
   "outputs": [],
   "source": [
    "model_lr=LogisticRegression(max_iter=1000)"
   ]
  },
  {
   "cell_type": "code",
   "execution_count": 84,
   "metadata": {},
   "outputs": [
    {
     "data": {
      "text/plain": [
       "LogisticRegression(max_iter=1000)"
      ]
     },
     "execution_count": 84,
     "metadata": {},
     "output_type": "execute_result"
    }
   ],
   "source": [
    "model_lr.fit(x_train,y_train)\n"
   ]
  },
  {
   "cell_type": "code",
   "execution_count": 85,
   "metadata": {},
   "outputs": [
    {
     "data": {
      "text/plain": [
       "0.8934010152284264"
      ]
     },
     "execution_count": 85,
     "metadata": {},
     "output_type": "execute_result"
    }
   ],
   "source": [
    "model_lr.score(x_test,y_test)"
   ]
  },
  {
   "cell_type": "code",
   "execution_count": 25,
   "metadata": {},
   "outputs": [],
   "source": [
    "# Support vector machine"
   ]
  },
  {
   "cell_type": "code",
   "execution_count": 86,
   "metadata": {},
   "outputs": [],
   "source": [
    "model_svc = SVC()"
   ]
  },
  {
   "cell_type": "code",
   "execution_count": 87,
   "metadata": {},
   "outputs": [
    {
     "data": {
      "text/plain": [
       "SVC()"
      ]
     },
     "execution_count": 87,
     "metadata": {},
     "output_type": "execute_result"
    }
   ],
   "source": [
    "model_svc.fit(x_train,y_train)"
   ]
  },
  {
   "cell_type": "code",
   "execution_count": 88,
   "metadata": {},
   "outputs": [
    {
     "data": {
      "text/plain": [
       "0.5532994923857868"
      ]
     },
     "execution_count": 88,
     "metadata": {},
     "output_type": "execute_result"
    }
   ],
   "source": [
    "model_svc.score(x_test,y_test)"
   ]
  },
  {
   "cell_type": "code",
   "execution_count": 29,
   "metadata": {},
   "outputs": [],
   "source": [
    "# Random forest calssifier"
   ]
  },
  {
   "cell_type": "code",
   "execution_count": 30,
   "metadata": {},
   "outputs": [],
   "source": [
    "model_rfc = RandomForestClassifier()"
   ]
  },
  {
   "cell_type": "code",
   "execution_count": 31,
   "metadata": {},
   "outputs": [
    {
     "data": {
      "text/plain": [
       "RandomForestClassifier()"
      ]
     },
     "execution_count": 31,
     "metadata": {},
     "output_type": "execute_result"
    }
   ],
   "source": [
    "model_rfc.fit(x_train,y_train)"
   ]
  },
  {
   "cell_type": "code",
   "execution_count": 32,
   "metadata": {},
   "outputs": [
    {
     "data": {
      "text/plain": [
       "0.9390862944162437"
      ]
     },
     "execution_count": 32,
     "metadata": {},
     "output_type": "execute_result"
    }
   ],
   "source": [
    "model_rfc.score(x_test,y_test)"
   ]
  },
  {
   "cell_type": "code",
   "execution_count": 33,
   "metadata": {},
   "outputs": [],
   "source": [
    "# Decision tree classifier"
   ]
  },
  {
   "cell_type": "code",
   "execution_count": 34,
   "metadata": {},
   "outputs": [],
   "source": [
    "model_dc = DecisionTreeClassifier()"
   ]
  },
  {
   "cell_type": "code",
   "execution_count": 35,
   "metadata": {},
   "outputs": [
    {
     "data": {
      "text/plain": [
       "DecisionTreeClassifier()"
      ]
     },
     "execution_count": 35,
     "metadata": {},
     "output_type": "execute_result"
    }
   ],
   "source": [
    "model_dc.fit(x_train,y_train)"
   ]
  },
  {
   "cell_type": "code",
   "execution_count": 36,
   "metadata": {},
   "outputs": [
    {
     "data": {
      "text/plain": [
       "0.9238578680203046"
      ]
     },
     "execution_count": 36,
     "metadata": {},
     "output_type": "execute_result"
    }
   ],
   "source": [
    "model_dc.score(x_test,y_test)"
   ]
  },
  {
   "cell_type": "markdown",
   "metadata": {},
   "source": [
    "# Cross val score"
   ]
  },
  {
   "cell_type": "code",
   "execution_count": 37,
   "metadata": {},
   "outputs": [],
   "source": [
    "# Logistic regression"
   ]
  },
  {
   "cell_type": "code",
   "execution_count": 69,
   "metadata": {},
   "outputs": [],
   "source": [
    "cross_score_lr= cross_val_score(LogisticRegression(max_iter=1000),x,y,cv=5)"
   ]
  },
  {
   "cell_type": "code",
   "execution_count": 70,
   "metadata": {},
   "outputs": [
    {
     "data": {
      "text/plain": [
       "array([0.96954315, 0.92893401, 0.91370558, 0.94923858, 0.87244898])"
      ]
     },
     "execution_count": 70,
     "metadata": {},
     "output_type": "execute_result"
    }
   ],
   "source": [
    "cross_score_lr"
   ]
  },
  {
   "cell_type": "code",
   "execution_count": 71,
   "metadata": {},
   "outputs": [
    {
     "data": {
      "text/plain": [
       "0.9267740598777582"
      ]
     },
     "execution_count": 71,
     "metadata": {},
     "output_type": "execute_result"
    }
   ],
   "source": [
    "np.mean(cross_score_lr)"
   ]
  },
  {
   "cell_type": "code",
   "execution_count": 41,
   "metadata": {},
   "outputs": [],
   "source": [
    "# Support vector machine"
   ]
  },
  {
   "cell_type": "code",
   "execution_count": 72,
   "metadata": {},
   "outputs": [],
   "source": [
    "cross_score_svc= cross_val_score(SVC(),x,y,cv=5)"
   ]
  },
  {
   "cell_type": "code",
   "execution_count": 73,
   "metadata": {},
   "outputs": [
    {
     "data": {
      "text/plain": [
       "array([0.19796954, 0.40609137, 0.39593909, 0.30456853, 0.20408163])"
      ]
     },
     "execution_count": 73,
     "metadata": {},
     "output_type": "execute_result"
    }
   ],
   "source": [
    "cross_score_svc"
   ]
  },
  {
   "cell_type": "code",
   "execution_count": 74,
   "metadata": {},
   "outputs": [
    {
     "data": {
      "text/plain": [
       "0.3017300321143686"
      ]
     },
     "execution_count": 74,
     "metadata": {},
     "output_type": "execute_result"
    }
   ],
   "source": [
    "np.mean(cross_score_svc)"
   ]
  },
  {
   "cell_type": "code",
   "execution_count": 45,
   "metadata": {},
   "outputs": [],
   "source": [
    "# Random forest calssifier"
   ]
  },
  {
   "cell_type": "code",
   "execution_count": 75,
   "metadata": {},
   "outputs": [],
   "source": [
    "cross_score_rfc=cross_val_score(RandomForestClassifier(),x,y,cv=5)"
   ]
  },
  {
   "cell_type": "code",
   "execution_count": 76,
   "metadata": {},
   "outputs": [
    {
     "data": {
      "text/plain": [
       "array([0.96954315, 0.92385787, 0.92385787, 0.95431472, 0.92346939])"
      ]
     },
     "execution_count": 76,
     "metadata": {},
     "output_type": "execute_result"
    }
   ],
   "source": [
    "cross_score_rfc"
   ]
  },
  {
   "cell_type": "code",
   "execution_count": 77,
   "metadata": {},
   "outputs": [
    {
     "data": {
      "text/plain": [
       "0.939008598363203"
      ]
     },
     "execution_count": 77,
     "metadata": {},
     "output_type": "execute_result"
    }
   ],
   "source": [
    "np.mean(cross_score_rfc)"
   ]
  },
  {
   "cell_type": "code",
   "execution_count": 49,
   "metadata": {},
   "outputs": [],
   "source": [
    "# Decision tree classifier"
   ]
  },
  {
   "cell_type": "code",
   "execution_count": 50,
   "metadata": {},
   "outputs": [],
   "source": [
    "cross_score_dtc=cross_val_score( DecisionTreeClassifier(),x,y,cv=5)"
   ]
  },
  {
   "cell_type": "code",
   "execution_count": 51,
   "metadata": {},
   "outputs": [
    {
     "data": {
      "text/plain": [
       "array([0.9035533 , 0.89340102, 0.9035533 , 0.9035533 , 0.5       ])"
      ]
     },
     "execution_count": 51,
     "metadata": {},
     "output_type": "execute_result"
    }
   ],
   "source": [
    "cross_score_dtc"
   ]
  },
  {
   "cell_type": "code",
   "execution_count": 52,
   "metadata": {
    "scrolled": true
   },
   "outputs": [
    {
     "data": {
      "text/plain": [
       "0.8208121827411168"
      ]
     },
     "execution_count": 52,
     "metadata": {},
     "output_type": "execute_result"
    }
   ],
   "source": [
    "np.mean(cross_score_dtc)"
   ]
  },
  {
   "cell_type": "markdown",
   "metadata": {},
   "source": [
    "# Best Score By Random forest classifier 0.9631306976414817(96.31%)"
   ]
  },
  {
   "cell_type": "code",
   "execution_count": 123,
   "metadata": {},
   "outputs": [
    {
     "data": {
      "text/plain": [
       "array([0.9893617 , 0.94565217, 0.97701149, 0.95918367, 0.94444444])"
      ]
     },
     "execution_count": 123,
     "metadata": {},
     "output_type": "execute_result"
    }
   ],
   "source": [
    "cross_score_rfc=cross_val_score(RandomForestClassifier(),x,y,cv=5,scoring='precision')\n",
    "cross_score_rfc"
   ]
  },
  {
   "cell_type": "code",
   "execution_count": 124,
   "metadata": {},
   "outputs": [
    {
     "data": {
      "text/plain": [
       "0.9631306976414817"
      ]
     },
     "execution_count": 124,
     "metadata": {},
     "output_type": "execute_result"
    }
   ],
   "source": [
    "np.mean(cross_score_rfc)"
   ]
  },
  {
   "cell_type": "code",
   "execution_count": null,
   "metadata": {},
   "outputs": [],
   "source": []
  }
 ],
 "metadata": {
  "kernelspec": {
   "display_name": "Python 3",
   "language": "python",
   "name": "python3"
  },
  "language_info": {
   "codemirror_mode": {
    "name": "ipython",
    "version": 3
   },
   "file_extension": ".py",
   "mimetype": "text/x-python",
   "name": "python",
   "nbconvert_exporter": "python",
   "pygments_lexer": "ipython3",
   "version": "3.8.5"
  }
 },
 "nbformat": 4,
 "nbformat_minor": 4
}
